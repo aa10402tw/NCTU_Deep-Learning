{
 "cells": [
  {
   "cell_type": "code",
   "execution_count": 261,
   "metadata": {
    "code_folding": [
     0
    ]
   },
   "outputs": [],
   "source": [
    "# Package\n",
    "from __future__ import unicode_literals, print_function, division\n",
    "from io import open\n",
    "import unicodedata\n",
    "import string\n",
    "import re\n",
    "import torch\n",
    "import torch.nn as nn\n",
    "from torch import optim\n",
    "import torch.nn.functional as F\n",
    "import torch.nn.utils.rnn as rnn_utils\n",
    "from torch.utils.data import DataLoader\n",
    "import torch.utils.data as data\n",
    "from torch.autograd import Variable\n",
    "from nltk.translate.bleu_score import SmoothingFunction, sentence_bleu\n",
    "\n",
    "import os\n",
    "import random\n",
    "import time\n",
    "import math\n",
    "import matplotlib.pyplot as plt\n",
    "import numpy as np\n",
    "from tqdm import tqdm_notebook as tqdm"
   ]
  },
  {
   "cell_type": "markdown",
   "metadata": {},
   "source": [
    "# Dataloader"
   ]
  },
  {
   "cell_type": "code",
   "execution_count": 2,
   "metadata": {},
   "outputs": [],
   "source": [
    "SOS_token = 0 # Start Of Sentence token\n",
    "EOS_token = 1 # End Of Sentence token\n",
    "MAX_LENGTH = 16\n",
    "vocab_size = 28"
   ]
  },
  {
   "cell_type": "code",
   "execution_count": 3,
   "metadata": {
    "code_folding": [
     0
    ]
   },
   "outputs": [],
   "source": [
    "# Prepare data\n",
    "def prepare_data():\n",
    "    words = []\n",
    "    tenses = []\n",
    "    with open(\"data/train.txt\") as f:\n",
    "        for line in f:\n",
    "            words.append(line.split('\\n')[0].split(' '))\n",
    "            tenses.append([label2tense(l) for l in LABELS])\n",
    "    return words, tenses\n",
    "\n",
    "def tensorsFromWord(word, tense=None):\n",
    "    indexes = [char2num(char) for char in word]\n",
    "    indexes.append(EOS_token)\n",
    "    return torch.tensor(indexes, dtype=torch.long).view(-1, 1)\n",
    "\n",
    "def tensorFromTense(tense):\n",
    "    index = tense2label(tense)\n",
    "    return torch.tensor([index], dtype=torch.long).view(-1, 1)"
   ]
  },
  {
   "cell_type": "code",
   "execution_count": 4,
   "metadata": {
    "code_folding": [
     0
    ]
   },
   "outputs": [],
   "source": [
    "# Data conversion\n",
    "# simple present(sp), third person(tp), present progressive(pg), simple past(p).\n",
    "TENSES = ['sp', 'tp', 'pg', 'p']\n",
    "LABELS = [i for i in range(len(TENSES ))]\n",
    "def tense2label(tense):\n",
    "    t2l = dict(zip(TENSES , LABELS))\n",
    "    return t2l[tense]\n",
    "    \n",
    "def label2tense(label):\n",
    "    l2t = dict(zip(LABELS, TENSES ))\n",
    "    return l2t[label]\n",
    "\n",
    "CHARS = ['SOS', 'EOS'] + [chr(i) for i in range(ord('a'), ord('z')+1)]\n",
    "NUMS = [i for i in range(len(CHARS))]\n",
    "def char2num(char):\n",
    "    c2n = dict(zip(CHARS, NUMS))\n",
    "    if char == 'SOS':\n",
    "        return 0\n",
    "    elif char == 'EOS':\n",
    "        return 1\n",
    "    else:\n",
    "        return c2n[char.lower()]\n",
    "    \n",
    "def num2char(num):\n",
    "    n2c = dict(zip(NUMS, CHARS))\n",
    "    return n2c[num]"
   ]
  },
  {
   "cell_type": "code",
   "execution_count": 5,
   "metadata": {
    "code_folding": [
     0
    ]
   },
   "outputs": [],
   "source": [
    "# Batch Training\n",
    "class MyData(data.Dataset):\n",
    "    def __init__(self):\n",
    "        words, tenses = prepare_data()\n",
    "        self.words = words\n",
    "        self.tenses = tenses\n",
    "        \n",
    "    def __len__(self):\n",
    "        return len(self.words)\n",
    "\n",
    "    def __getitem__(self, idx):\n",
    "        tense_index_input = random.randint(0, 4-1)\n",
    "        input       = self.words[idx][tense_index_input]\n",
    "        input_cond  = self.tenses[idx][tense_index_input]\n",
    "        input_tensor = tensorsFromWord(input)\n",
    "        input_cond_tensor = tensorFromTense(input_cond)\n",
    "        return input_tensor, input_cond_tensor\n",
    "\n",
    "def collate_fn(data):\n",
    "    batch_size = len(data)\n",
    "    input_tensor = [data[i][0] for i in range(batch_size)]\n",
    "    input_cond_tensor = torch.LongTensor([data[i][1] for i in range(batch_size)])\n",
    "    input_tensor = torch.LongTensor(rnn_utils.pad_sequence(\n",
    "        input_tensor, batch_first=True, padding_value=EOS_token))\n",
    "    return input_tensor, input_cond_tensor"
   ]
  },
  {
   "cell_type": "markdown",
   "metadata": {},
   "source": [
    "# Utils"
   ]
  },
  {
   "cell_type": "code",
   "execution_count": 6,
   "metadata": {
    "code_folding": [
     0
    ]
   },
   "outputs": [],
   "source": [
    "# Test Model\n",
    "def test_model(vae, word='', input_tense='', target_tense=''):\n",
    "    output = []\n",
    "    batch_size = 1\n",
    "    input = tensorsFromWord(word).view(batch_size, -1, 1).to(device)\n",
    "    input_condition = tensorFromTense(input_tense).view(batch_size, 1, 1).to(device)\n",
    "    target_condition = tensorFromTense(target_tense).view(batch_size, 1, 1).to(device)\n",
    "    vae.eval()\n",
    "    with torch.no_grad():\n",
    "        outputs, mean, logvar = vae.inference(input, input_condition, target_condition)\n",
    "    vae.train()\n",
    "\n",
    "    predictions = []\n",
    "    for i in range(outputs.size(1)):\n",
    "        output = outputs[0][i].data.cpu()\n",
    "        topv, topi = output.topk(1)\n",
    "        prediction = topi.item() \n",
    "        if prediction == EOS_token:\n",
    "            break\n",
    "        predictions.append(num2char(prediction))\n",
    "    return ''.join(predictions)"
   ]
  },
  {
   "cell_type": "code",
   "execution_count": 7,
   "metadata": {
    "code_folding": [
     0
    ]
   },
   "outputs": [],
   "source": [
    "# Generation\n",
    "def generation(vae, z, tense):\n",
    "    condition = tensorFromTense(tense).view(1, 1, 1).to(device)\n",
    "    vae.eval()\n",
    "    with torch.no_grad():\n",
    "        outputs= vae.generation(z, condition)\n",
    "    vae.train()\n",
    "    predictions = []\n",
    "    for i in range(outputs.size(1)):\n",
    "        output = outputs[0][i].data.cpu()\n",
    "        topv, topi = output.topk(1)\n",
    "        prediction = topi.item() \n",
    "        if prediction == EOS_token:\n",
    "            break\n",
    "        predictions.append(num2char(prediction))\n",
    "    return ''.join(predictions)"
   ]
  },
  {
   "cell_type": "code",
   "execution_count": 8,
   "metadata": {
    "code_folding": [
     0
    ]
   },
   "outputs": [],
   "source": [
    "# Evaluation\n",
    "def compute_bleu(output, reference):\n",
    "    cc = SmoothingFunction()\n",
    "    return sentence_bleu([reference], output,weights=(0.25, 0.25, 0.25, 0.25),smoothing_function=cc.method1)\n",
    "\n",
    "def eval_model(vae, verbose=False):\n",
    "    input_tenses = ['sp', 'sp', 'sp', 'sp','p', 'sp', 'p', 'pg', 'pg', 'pg']\n",
    "    target_tenses = ['p', 'pg', 'tp', 'tp', 'tp', 'pg', 'sp', 'sp', 'p', 'tp']\n",
    "    inputs = []\n",
    "    targets = []\n",
    "    with open('data/test.txt', 'r') as f:\n",
    "        lines = f.readlines()\n",
    "        for line in lines:\n",
    "            data = line.split('\\n')[0].split(' ')\n",
    "            inputs.append(data[0])\n",
    "            targets.append(data[1])\n",
    "            \n",
    "    score_sum = 0\n",
    "    if verbose:\n",
    "        print(\"{:^6} | {:^10} | {:^10}\".format(\"BLEU\", \"Prediction\", \"Target\"))\n",
    "        print('-'*30)\n",
    "    for i in range(len(inputs)):\n",
    "        prediction = test_model(vae, word=inputs[i], input_tense=input_tenses[i], target_tense=target_tenses[i])\n",
    "        score = compute_bleu(prediction, targets[i])\n",
    "        if verbose:\n",
    "            print(\"{:6} | {:10} | {:10}\".format('%.4f'%score, prediction, targets[i]))\n",
    "        score_sum += score\n",
    "    if verbose:\n",
    "        print('-'*30)\n",
    "        print(\"Avg:\", score_sum / 10)\n",
    "    return score_sum / 10"
   ]
  },
  {
   "cell_type": "code",
   "execution_count": 9,
   "metadata": {
    "code_folding": [
     0
    ]
   },
   "outputs": [],
   "source": [
    "# Save / Load Model\n",
    "def safe_make_dir(dir_name):\n",
    "    if not os.path.exists(dir_name):\n",
    "        os.makedirs(dir_name)\n",
    "\n",
    "def save_model(model, model_name='test.pth'):\n",
    "    if '.' not in model_name:\n",
    "        model_name += '.pth'\n",
    "    safe_make_dir('weights')\n",
    "    path = os.path.join('weights', model_name)\n",
    "    torch.save(model, path)\n",
    "    \n",
    "def load_model(model_name='test.pth'):\n",
    "    if '.' not in model_name:\n",
    "        model_name += '.pth'\n",
    "    path = os.path.join('weights', model_name)\n",
    "    model = torch.load(path)\n",
    "    return model"
   ]
  },
  {
   "cell_type": "code",
   "execution_count": 10,
   "metadata": {
    "code_folding": [
     0
    ]
   },
   "outputs": [],
   "source": [
    "# Draw History\n",
    "def draw_history(history):\n",
    "    kl_loss = history[\"KL_loss\"]\n",
    "    ce_loss = history[\"CE_loss\"]\n",
    "    bleu = history[\"BLEU\"]\n",
    "    xs = [i for i in range(1, len(kl_loss)+1)]\n",
    "    plt.plot(xs, ce_loss, label='CE Loss')\n",
    "    plt.plot(xs, kl_loss, label='KL Loss')\n",
    "    plt.plot(xs, bleu, label='BLEU')\n",
    "    plt.legend(loc='best')\n",
    "    \n",
    "def draw_ratio(n_iters=50000):\n",
    "    xs = [i for i in range(1, n_iters+1)]\n",
    "    tf_ratio = []\n",
    "    kl_weight = []\n",
    "    for x in xs:\n",
    "        tf_ratio.append(teacher_force_rate_schedule(x, n_iters))\n",
    "        kl_weight.append(KL_weight_schedule(x, n_iters))\n",
    "    plt.plot(xs, tf_ratio, label='tf_ratio')\n",
    "    plt.plot(xs, kl_weight, label='kl_weight')\n",
    "    plt.legend(loc='best')\n"
   ]
  },
  {
   "cell_type": "markdown",
   "metadata": {},
   "source": [
    "# Network"
   ]
  },
  {
   "cell_type": "code",
   "execution_count": 11,
   "metadata": {
    "code_folding": [
     0
    ]
   },
   "outputs": [],
   "source": [
    "# Encoder\n",
    "class EncoderRNN(nn.Module):\n",
    "    def __init__(self, input_size, hidden_size, cond_size):\n",
    "        super(EncoderRNN, self).__init__()\n",
    "        self.hidden_size = hidden_size\n",
    "        self.embedding = nn.Embedding(input_size, hidden_size)\n",
    "        self.cond_size = cond_size\n",
    "        self.cond_embedding = nn.Embedding(cond_size, 8)\n",
    "        self.gru = nn.GRU(hidden_size, hidden_size, batch_first=True)\n",
    "    \n",
    "    def forward(self, input, input_cond, hidden=None):\n",
    "        if hidden is None:\n",
    "            hidden = self.initHidden(input_cond)\n",
    "        batch_size, seq_len = input.size(0), input.size(1)\n",
    "        embedded = self.embedding(input).view(batch_size, seq_len, -1)\n",
    "        output = embedded\n",
    "        output, hidden = self.gru(output, hidden)\n",
    "        return output, hidden\n",
    "\n",
    "    def initHidden(self, cond_tensor):\n",
    "        batch_size = cond_tensor.size(0)\n",
    "        h0 = torch.zeros(batch_size, self.hidden_size-8).to(device)\n",
    "        cond_embedding = self.cond_embedding(cond_tensor).view(batch_size, 8).to(device)\n",
    "        hidden = torch.cat((h0, cond_embedding), dim=1).view(1, batch_size, self.hidden_size).to(device)\n",
    "        return hidden"
   ]
  },
  {
   "cell_type": "code",
   "execution_count": 12,
   "metadata": {
    "code_folding": [
     0
    ]
   },
   "outputs": [],
   "source": [
    "# Decoder\n",
    "class DecoderRNN(nn.Module):\n",
    "    def __init__(self, hidden_size, output_size):\n",
    "        super(DecoderRNN, self).__init__()\n",
    "        self.hidden_size = hidden_size\n",
    "        self.embedding = nn.Embedding(output_size, hidden_size)\n",
    "        self.gru = nn.GRU(hidden_size, hidden_size, batch_first=True)\n",
    "        self.out = nn.Linear(hidden_size, output_size)\n",
    "        self.softmax = nn.LogSoftmax(dim=1)\n",
    "\n",
    "    def forward(self, input, hidden=None):\n",
    "        if hidden is None:\n",
    "            hidden = self.initHidden(input.size(0))\n",
    "        batch_size, seq_len = input.size(0), input.size(1)\n",
    "        embedded = self.embedding(input).view(batch_size, seq_len, -1)\n",
    "        output = F.relu(embedded)\n",
    "        output, hidden = self.gru(output, hidden)\n",
    "        output = self.out(output)\n",
    "        return output, hidden\n",
    "\n",
    "    def initHidden(self, batch_size):\n",
    "        return torch.zeros(1, batch_size, self.hidden_size, device=device)"
   ]
  },
  {
   "cell_type": "code",
   "execution_count": 13,
   "metadata": {
    "code_folding": [
     0
    ]
   },
   "outputs": [],
   "source": [
    "# VAE\n",
    "class VAE(nn.Module):\n",
    "    def __init__(self, input_size, hidden_size, latent_size, cond_size, output_size):\n",
    "        super(VAE, self).__init__()\n",
    "        \n",
    "        # Encoder & Decoder\n",
    "        self.encoder = EncoderRNN(input_size, hidden_size, cond_size)\n",
    "        self.decoder = DecoderRNN(hidden_size, output_size)\n",
    "        \n",
    "        # Hidden to Latent (REPARAMETERIZATION)\n",
    "        self.hidden2mean = nn.Linear(hidden_size, latent_size)\n",
    "        self.hidden2logvar = nn.Linear(hidden_size, latent_size)\n",
    "        \n",
    "        # Latent to Hidden\n",
    "        self.latent2hidden = nn.Linear(latent_size+8, hidden_size)\n",
    "        self.cond_embedding = nn.Embedding(cond_size, 8)\n",
    "        \n",
    "        self.input_size = input_size\n",
    "        self.hidden_size = hidden_size\n",
    "        self.latent_size = latent_size\n",
    "        self.cond_size = cond_size\n",
    "        self.output_size = output_size\n",
    "        \n",
    "    def reparameterize(self, mean, logvar):\n",
    "        std = torch.exp(0.5*logvar)\n",
    "        eps = torch.randn_like(std)\n",
    "        latent = mean + eps*std\n",
    "        return latent\n",
    "    \n",
    "    def generation(self, latent, condition):\n",
    "        batch_size = 1\n",
    "        hidden = self.latent_cond2hidden(latent, condition)\n",
    "        #----------sequence to sequence part for decoder----------#\n",
    "        outputs = Variable(torch.zeros(batch_size, MAX_LENGTH, self.output_size)).to(device)\n",
    "        decoder_input = torch.tensor([[SOS_token] * batch_size], device=device).view(batch_size, 1, 1)\n",
    "        decoder_hidden = hidden\n",
    "        # Without teacher forcing: use its own predictions as the next input\n",
    "        for di in range(MAX_LENGTH):\n",
    "            decoder_output, decoder_hidden = self.decoder(decoder_input, decoder_hidden)\n",
    "            outputs[:, di, :] = decoder_output.view(batch_size, self.output_size)\n",
    "            # next input\n",
    "            topv, topi = decoder_output.topk(1)\n",
    "            decoder_input = topi.squeeze().detach().view(batch_size, 1, 1)  # detach from history as input\n",
    "        return outputs\n",
    "    \n",
    "    def inference(self, input, input_condition, target_condition):\n",
    "        #----------sequence to sequence part for encoder----------#\n",
    "        batch_size, seq_length = input.size(0), input.size(1)\n",
    "        encoder_output, encoder_hidden = self.encoder(input, input_condition, None)\n",
    "        \n",
    "        #---------- sequence to sequence part for VAE----------#\n",
    "        mean = self.hidden2mean(encoder_hidden)\n",
    "        logvar = self.hidden2logvar(encoder_hidden)\n",
    "        latent = self.reparameterize(mean, logvar)\n",
    "        hidden = self.latent_cond2hidden(latent, target_condition)\n",
    "        \n",
    "        #----------sequence to sequence part for decoder----------#\n",
    "        outputs = Variable(torch.zeros(batch_size, MAX_LENGTH, self.output_size)).to(device)\n",
    "        decoder_input = torch.tensor([[SOS_token] * batch_size], device=device).view(batch_size, 1, 1)\n",
    "        decoder_hidden = hidden\n",
    "        # Without teacher forcing: use its own predictions as the next input\n",
    "        for di in range(MAX_LENGTH):\n",
    "            decoder_output, decoder_hidden = self.decoder(decoder_input, decoder_hidden)\n",
    "            outputs[:, di, :] = decoder_output.view(batch_size, self.output_size)\n",
    "            # next input\n",
    "            topv, topi = decoder_output.topk(1)\n",
    "            decoder_input = topi.squeeze().detach().view(batch_size, 1, 1)  # detach from history as input\n",
    "        return outputs, mean, logvar\n",
    "\n",
    "    def forward(self, input, condition, use_teacher_forcing=True):\n",
    "        #----------sequence to sequence part for encoder----------#\n",
    "        batch_size, seq_length = input.size(0), input.size(1)\n",
    "        encoder_output, encoder_hidden = self.encoder(input, condition, None)\n",
    "        \n",
    "        #---------- sequence to sequence part for VAE----------#\n",
    "        mean = self.hidden2mean(encoder_hidden)\n",
    "        logvar = self.hidden2logvar(encoder_hidden)\n",
    "        latent = self.reparameterize(mean, logvar)\n",
    "        hidden = self.latent_cond2hidden(latent, condition)\n",
    "        \n",
    "        #----------sequence to sequence part for decoder----------#\n",
    "        outputs = Variable(torch.zeros(batch_size, seq_length, self.output_size)).to(device)\n",
    "        decoder_input = torch.tensor([[SOS_token] * batch_size], device=device).view(batch_size, 1, 1)\n",
    "        decoder_hidden = hidden\n",
    "        if use_teacher_forcing:\n",
    "            # Teacher forcing: Feed the target as the next input\n",
    "            for di in range(seq_length):\n",
    "                decoder_output, decoder_hidden = self.decoder(decoder_input, decoder_hidden)\n",
    "                outputs[:, di, :] = decoder_output.view(batch_size, self.output_size)\n",
    "                # next input\n",
    "                decoder_input = input[:, di].view(batch_size, 1, 1)\n",
    "        else:\n",
    "            # Without teacher forcing: use its own predictions as the next input\n",
    "            for di in range(seq_length):\n",
    "                decoder_output, decoder_hidden = self.decoder(decoder_input, decoder_hidden)\n",
    "                outputs[:, di, :] = decoder_output.view(batch_size, self.output_size)\n",
    "                # next input\n",
    "                topv, topi = decoder_output.topk(1)\n",
    "                decoder_input = topi.squeeze().detach().view(batch_size, 1, 1)  # detach from history as input\n",
    "        return outputs, mean, logvar\n",
    "    \n",
    "    def latent_cond2hidden(self, latent, cond_tensor):\n",
    "        batch_size = cond_tensor.size(0)\n",
    "        cond_tensor = cond_tensor.to(device)\n",
    "        latent = latent.view(batch_size, self.latent_size).to(device)\n",
    "        cond = self.cond_embedding(cond_tensor).view(batch_size, 8).to(device)\n",
    "        latent_cond = torch.cat((latent, cond), dim=1).view(1, batch_size, self.latent_size+8) \n",
    "        hidden_out = self.latent2hidden(latent_cond)\n",
    "        return hidden_out"
   ]
  },
  {
   "cell_type": "markdown",
   "metadata": {},
   "source": [
    "# Train"
   ]
  },
  {
   "cell_type": "code",
   "execution_count": 116,
   "metadata": {
    "code_folding": []
   },
   "outputs": [],
   "source": [
    "# Ratio Scheduling\n",
    "def sigmoid(x):\n",
    "    return 1 / (1 + np.exp(-x))\n",
    "\n",
    "def teacher_force_rate_schedule(epoch, num_epochs):\n",
    "    return 0.5\n",
    "    teacher_forcing_ratio = 1 - sigmoid( (epoch - num_epochs//2) / (num_epochs//15))\n",
    "    return teacher_forcing_ratio\n",
    "\n",
    "def KL_weight_schedule(epoch, num_epochs):\n",
    "    return 1\n",
    "    period = num_epochs // 5\n",
    "    epoch %= period\n",
    "    KL_weight = sigmoid( (epoch - period//2) / (period//10))\n",
    "    KL_weight = max(0.01, KL_weight)\n",
    "    KL_weight = min(1, KL_weight)\n",
    "    return KL_weight "
   ]
  },
  {
   "cell_type": "code",
   "execution_count": 308,
   "metadata": {
    "code_folding": []
   },
   "outputs": [],
   "source": [
    "# Loss Function\n",
    "def loss_fn(output, target, mean, logvar):\n",
    "    num_classes = vocab_size\n",
    "    \n",
    "    # Cross Entropy Loss\n",
    "    loss_fn_ce = nn.CrossEntropyLoss(reduction='sum')\n",
    "    output = output.view(-1, num_classes)\n",
    "    target = target.view(-1)\n",
    "    CE_loss = loss_fn_ce(output, target)\n",
    "    \n",
    "    # KL Divergence\n",
    "    KL_loss = -0.5 * torch.sum(1 + logvar - mean.pow(2) - logvar.exp())\n",
    "    return CE_loss, KL_loss"
   ]
  },
  {
   "cell_type": "code",
   "execution_count": 118,
   "metadata": {
    "code_folding": [
     0,
     2,
     14
    ]
   },
   "outputs": [],
   "source": [
    "# Train Model\n",
    "def train(input, condition, vae, vae_optimizer, \n",
    "          teacher_forcing_ratio=0.5, KL_weight=0.001, max_length=MAX_LENGTH):\n",
    "    vae_optimizer.zero_grad()\n",
    "    \n",
    "    use_teacher_forcing = True if random.random() < teacher_forcing_ratio else False\n",
    "    output, mean, logvar = vae(input, condition, use_teacher_forcing)\n",
    "    CE_loss, KL_loss = loss_fn(output, input, mean, logvar)\n",
    "    loss = CE_loss + KL_weight*KL_loss \n",
    "    \n",
    "    loss.backward()\n",
    "    vae_optimizer.step()\n",
    "    return KL_loss.item(), CE_loss.item()\n",
    "\n",
    "def trainEpochs(vae, data_loader, n_epochs=100, learning_rate=0.01, verbose=True):\n",
    "    \n",
    "    start = time.time()\n",
    "    history = {\"KL_loss\":[], \"CE_loss\":[], \"BLEU\":[]}\n",
    "    losses_total = {\"KL_loss\":0, \"CE_loss\":0} # Reset every print_every\n",
    "    \n",
    "    vae_optimizer     = optim.Adam(vae.parameters(), lr=learning_rate) # VAE\n",
    "    \n",
    "    # Pbar\n",
    "    pbar = tqdm(total=n_epochs, unit=' epochs', ascii=True)\n",
    "    \n",
    "    for epoch in range(1, n_epochs+1):\n",
    "        # Pbar\n",
    "        pbar.set_description(\"({}/{})\".format(epoch, n_epochs))\n",
    "        \n",
    "        teacher_forcing_ratio = teacher_force_rate_schedule(epoch, n_epochs)\n",
    "        KL_weight = KL_weight_schedule(epoch, n_epochs)\n",
    "        teacher_forcing_ratio = 0\n",
    "        for i, (input, condition) in enumerate(data_loader):\n",
    "            input = input.to(device)\n",
    "            condition = condition.to(device)\n",
    "            \n",
    "            kl_loss, ce_loss = train(input, condition, vae, vae_optimizer, teacher_forcing_ratio=teacher_forcing_ratio, KL_weight=KL_weight)\n",
    "\n",
    "            losses_total['KL_loss'] += kl_loss\n",
    "            losses_total['CE_loss'] += ce_loss\n",
    "        # Record Epoch Loss\n",
    "        kl_loss_avg = losses_total['KL_loss'] / len(data_loader)\n",
    "        ce_loss_avg = losses_total['CE_loss'] / len(data_loader)\n",
    "        bleu = eval_model(vae)\n",
    "        history['KL_loss'] += [kl_loss_avg]\n",
    "        history['CE_loss'] += [ce_loss_avg]\n",
    "        history['BLEU'] += [bleu]\n",
    "        losses_total = {\"KL_loss\":0, \"CE_loss\":0}\n",
    "        pbar.set_postfix({'CE_loss':history['CE_loss'][-1], \n",
    "                          'KL_loss':history['KL_loss'][-1], 'BLUE':history['BLEU'][-1]})\n",
    "        pbar.update()\n",
    "        if verbose and epoch % (num_epochs//10) == 0:\n",
    "            word_idx = np.random.randint(0, len(words)-1, size=1).item()\n",
    "            cond_idx = np.random.randint(0, 4-1, size=1).item()\n",
    "            word = words[word_idx][cond_idx]\n",
    "            input_tense = label2tense(cond_idx)\n",
    "            predicts = []\n",
    "            labels = []\n",
    "            for i, target_tense in enumerate(['sp', 'tp', 'pg', 'p']):\n",
    "                predict = test_model(vae, word, input_tense, target_tense)\n",
    "                predicts.append(predict)\n",
    "                labels.append(words[word_idx][i])\n",
    "            print(\"| {:^10} | {:^10} | {:^10} | {:^10} | {:^10} |\".format('', 'sp', 'tp', 'pg', 'p'))\n",
    "            print(\"| {:^10} | {:^10} | {:^10} | {:^10} | {:^10} |\".format(\n",
    "                'Label', labels[0], labels[1], labels[2], labels[3]))\n",
    "            print(\"| {:^10} | {:^10} | {:^10} | {:^10} | {:^10} |\".format(\n",
    "                'Predict', predicts[0], predicts[1], predicts[2], predicts[3]))\n",
    "            print()\n",
    "    pbar.close()\n",
    "    return history"
   ]
  },
  {
   "cell_type": "code",
   "execution_count": 119,
   "metadata": {},
   "outputs": [],
   "source": [
    "device = torch.device(\"cuda\" if torch.cuda.is_available() else \"cpu\")\n",
    "# Hyper-parameters\n",
    "hidden_size = 256\n",
    "cond_size = 4\n",
    "latent_size = 32\n",
    "vocab_size = 28"
   ]
  },
  {
   "cell_type": "code",
   "execution_count": 120,
   "metadata": {},
   "outputs": [],
   "source": [
    "data = MyData()\n",
    "data_loader = DataLoader(data, batch_size=32, shuffle=True, collate_fn=collate_fn)\n",
    "\n",
    "#vae = VAE(vocab_size, hidden_size, latent_size, cond_size, vocab_size).to(device)"
   ]
  },
  {
   "cell_type": "code",
   "execution_count": 336,
   "metadata": {},
   "outputs": [
    {
     "data": {
      "application/vnd.jupyter.widget-view+json": {
       "model_id": "bf6f9443069b46ef9f5d05acc4a63581",
       "version_major": 2,
       "version_minor": 0
      },
      "text/plain": [
       "HBox(children=(IntProgress(value=0, max=10), HTML(value='')))"
      ]
     },
     "metadata": {},
     "output_type": "display_data"
    }
   ],
   "source": [
    "history = trainEpochs(vae, data_loader, n_epochs=10, learning_rate=0.0001, verbose=False)"
   ]
  },
  {
   "cell_type": "code",
   "execution_count": 20,
   "metadata": {},
   "outputs": [
    {
     "name": "stderr",
     "output_type": "stream",
     "text": [
      "C:\\Users\\nilab\\Anaconda3\\lib\\site-packages\\torch\\serialization.py:250: UserWarning: Couldn't retrieve source code for container of type VAE. It won't be checked for correctness upon loading.\n",
      "  \"type \" + obj.__name__ + \". It won't be checked \"\n",
      "C:\\Users\\nilab\\Anaconda3\\lib\\site-packages\\torch\\serialization.py:250: UserWarning: Couldn't retrieve source code for container of type EncoderRNN. It won't be checked for correctness upon loading.\n",
      "  \"type \" + obj.__name__ + \". It won't be checked \"\n",
      "C:\\Users\\nilab\\Anaconda3\\lib\\site-packages\\torch\\serialization.py:250: UserWarning: Couldn't retrieve source code for container of type DecoderRNN. It won't be checked for correctness upon loading.\n",
      "  \"type \" + obj.__name__ + \". It won't be checked \"\n"
     ]
    }
   ],
   "source": [
    "save_model(vae, model_name='vae')"
   ]
  },
  {
   "cell_type": "markdown",
   "metadata": {},
   "source": [
    "# Test Model"
   ]
  },
  {
   "cell_type": "code",
   "execution_count": 338,
   "metadata": {},
   "outputs": [],
   "source": [
    "vae = load_model(model_name='vae_0.85.pth')\n",
    "device = torch.device(\"cuda\" if torch.cuda.is_available() else \"cpu\")"
   ]
  },
  {
   "cell_type": "code",
   "execution_count": 236,
   "metadata": {
    "code_folding": [
     0
    ]
   },
   "outputs": [],
   "source": [
    "# Draw History\n",
    "def draw_history(history, plot=['KL', 'CE', 'BLEU']):\n",
    "    kl_loss = history[\"KL_loss\"]\n",
    "    ce_loss = history[\"CE_loss\"]\n",
    "    bleu = history[\"BLEU\"]\n",
    "    xs = [i for i in range(1, len(kl_loss)+1)]\n",
    "    if 'CE' in plot:\n",
    "        plt.plot(xs, ce_loss, label='CE Loss')\n",
    "    if 'KL' in plot:\n",
    "        plt.plot(xs, kl_loss, label='KL Loss')\n",
    "    if 'BLEU' in plot:\n",
    "        plt.plot(xs, bleu, label='BLEU')\n",
    "    plt.legend(loc='best')\n",
    "    plt.xlabel('# Epochs')\n",
    "    plt.ylabel(\"Score\")\n",
    "    plt.show()"
   ]
  },
  {
   "cell_type": "code",
   "execution_count": 23,
   "metadata": {},
   "outputs": [
    {
     "data": {
      "image/png": "[encoded data removed]",
      "text/plain": [
       "<Figure size 432x288 with 1 Axes>"
      ]
     },
     "metadata": {
      "needs_background": "light"
     },
     "output_type": "display_data"
    },
    {
     "data": {
      "image/png": "[encoded data removed]",
      "text/plain": [
       "<Figure size 432x288 with 1 Axes>"
      ]
     },
     "metadata": {
      "needs_background": "light"
     },
     "output_type": "display_data"
    }
   ],
   "source": [
    "draw_history(history, plot=['KL', 'CE'])\n",
    "draw_history(history, plot=['BLEU'])"
   ]
  },
  {
   "cell_type": "code",
   "execution_count": 24,
   "metadata": {},
   "outputs": [
    {
     "data": {
      "image/png": "[encoded data removed]",
      "text/plain": [
       "<Figure size 432x288 with 1 Axes>"
      ]
     },
     "metadata": {
      "needs_background": "light"
     },
     "output_type": "display_data"
    }
   ],
   "source": [
    "draw_ratio(1000)\n",
    "plt.show()"
   ]
  },
  {
   "cell_type": "code",
   "execution_count": 341,
   "metadata": {},
   "outputs": [
    {
     "name": "stdout",
     "output_type": "stream",
     "text": [
      " BLEU  | Prediction |   Target  \n",
      "------------------------------\n",
      "1.0000 | abandoned  | abandoned \n",
      "0.6894 | abeting    | abetting  \n",
      "0.5789 | begis      | begins    \n",
      "1.0000 | expends    | expends   \n",
      "0.3328 | sens       | sends     \n",
      "0.3987 | spiiting   | splitting \n",
      "1.0000 | flare      | flare     \n",
      "1.0000 | function   | function  \n",
      "1.0000 | functioned | functioned\n",
      "1.0000 | heals      | heals     \n",
      "------------------------------\n",
      "Avg: 0.7999817126408872\n"
     ]
    },
    {
     "data": {
      "text/plain": [
       "0.7999817126408872"
      ]
     },
     "execution_count": 341,
     "metadata": {},
     "output_type": "execute_result"
    }
   ],
   "source": [
    "eval_model(vae, verbose=True)"
   ]
  },
  {
   "cell_type": "code",
   "execution_count": 351,
   "metadata": {},
   "outputs": [
    {
     "name": "stdout",
     "output_type": "stream",
     "text": [
      "Rendom Generation:\n",
      "iter\t\n",
      "3\t  confirm(*)    |   confirms(*)   | confirming(*)   | confirmed(*)   \n",
      "11\t    kill(*)     |    kills(*)     | killing(*)      | kelled         \n",
      "13\t     gett       |      getts      | getting(*)      | getted         \n",
      "16\t   dript(*)     |     dripes      | driping         | drapt          \n",
      "36\t    faze(*)     |    fazes(*)     | fazing(*)       | faze(*)        \n",
      "41\t  flatten(*)    |    flattees     | flattting       | flautted       \n",
      "53\t   batter(*)    |   batters(*)    | battening       | baarted        \n",
      "56\t    renose      |     revoses     | revising(*)     | revosed        \n",
      "61\t  revisit(*)    |    revilies     | reviloiing      | revilode       \n",
      "62\t   accost(*)    |     accoses     | accosiing       | accosed        \n",
      "63\t   surge(*)     |     surles      | surling         | surled         \n",
      "98\t  exchange(*)   |    exchands     | exchanding      | exclarded      \n"
     ]
    }
   ],
   "source": [
    "# Generation \n",
    "latent_size = 32\n",
    "print(\"Rendom Generation:\")\n",
    "print(\"iter\", end='\\t')\n",
    "print()\n",
    "z = torch.randn(1, 1, latent_size)\n",
    "for i in range(100):\n",
    "    z = torch.randn(1, 1, latent_size)\n",
    "    valid = False\n",
    "    words_generate = []\n",
    "    for tense in TENSES:\n",
    "        x = generation(vae, z, tense=tense)\n",
    "        words_generate.append(x)\n",
    "        if x in words:\n",
    "            valid = True\n",
    "            words_generate[-1] = words_generate[-1] + '(*)'\n",
    "        else:\n",
    "            words_generate[-1] = words_generate[-1]\n",
    "    if valid:\n",
    "        print(i, end='\\t')\n",
    "        print(\"{:^15} | {:^15} | {:15} | {:15}\".format(*words_generate))"
   ]
  },
  {
   "cell_type": "code",
   "execution_count": 324,
   "metadata": {},
   "outputs": [],
   "source": [
    "words, tenses = prepare_data()"
   ]
  },
  {
   "cell_type": "code",
   "execution_count": 325,
   "metadata": {},
   "outputs": [],
   "source": [
    "words_ = []\n",
    "for word in words:\n",
    "    words_ += [word[0], word[1], word[2], word[3]]\n",
    "words = words_"
   ]
  },
  {
   "cell_type": "code",
   "execution_count": 326,
   "metadata": {},
   "outputs": [
    {
     "name": "stdout",
     "output_type": "stream",
     "text": [
      "abandon\n"
     ]
    }
   ],
   "source": [
    "print(words[0])"
   ]
  },
  {
   "cell_type": "code",
   "execution_count": null,
   "metadata": {},
   "outputs": [],
   "source": []
  }
 ],
 "metadata": {
  "kernelspec": {
   "display_name": "Python 3",
   "language": "python",
   "name": "python3"
  },
  "language_info": {
   "codemirror_mode": {
    "name": "ipython",
    "version": 3
   },
   "file_extension": ".py",
   "mimetype": "text/x-python",
   "name": "python",
   "nbconvert_exporter": "python",
   "pygments_lexer": "ipython3",
   "version": "3.6.7"
  },
  "varInspector": {
   "cols": {
    "lenName": 16,
    "lenType": 16,
    "lenVar": 40
   },
   "kernels_config": {
    "python": {
     "delete_cmd_postfix": "",
     "delete_cmd_prefix": "del ",
     "library": "var_list.py",
     "varRefreshCmd": "print(var_dic_list())"
    },
    "r": {
     "delete_cmd_postfix": ") ",
     "delete_cmd_prefix": "rm(",
     "library": "var_list.r",
     "varRefreshCmd": "cat(var_dic_list()) "
    }
   },
   "types_to_exclude": [
    "module",
    "function",
    "builtin_function_or_method",
    "instance",
    "_Feature"
   ],
   "window_display": false
  }
 },
 "nbformat": 4,
 "nbformat_minor": 2
}
