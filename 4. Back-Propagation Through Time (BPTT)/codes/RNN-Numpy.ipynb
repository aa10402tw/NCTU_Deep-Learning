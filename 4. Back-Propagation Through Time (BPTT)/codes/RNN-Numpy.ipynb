{
 "cells": [
  {
   "cell_type": "code",
   "execution_count": 1,
   "metadata": {},
   "outputs": [],
   "source": [
    "import numpy as np\n",
    "np.set_printoptions(suppress = True)\n",
    "from tqdm import tqdm_notebook as tqdm\n",
    "import matplotlib.pyplot as plt\n",
    "import math"
   ]
  },
  {
   "cell_type": "markdown",
   "metadata": {},
   "source": [
    "# Utils"
   ]
  },
  {
   "cell_type": "code",
   "execution_count": 2,
   "metadata": {
    "code_folding": [
     0,
     1,
     4
    ]
   },
   "outputs": [],
   "source": [
    "# Activation Functions\n",
    "def tanh(x):\n",
    "    return np.tanh(x)\n",
    "\n",
    "def sigmoid(x):\n",
    "    return 1 / (1 + np.exp(-x))"
   ]
  },
  {
   "cell_type": "code",
   "execution_count": 3,
   "metadata": {
    "code_folding": [
     1,
     9
    ]
   },
   "outputs": [],
   "source": [
    "# Criterion\n",
    "def compute_error(y_true, y_pred):\n",
    "    total = len(y_true)\n",
    "    num_error = 0\n",
    "    for y, y_ in zip(y_true, y_pred):\n",
    "        if y != y_:\n",
    "            num_error += 1\n",
    "    return num_error\n",
    "\n",
    "def isCorrect(y_true, y_pred):\n",
    "    if np.array_equal(y_true, y_pred):\n",
    "        return 1\n",
    "    else:\n",
    "        return 0"
   ]
  },
  {
   "cell_type": "code",
   "execution_count": 4,
   "metadata": {
    "code_folding": [
     0
    ]
   },
   "outputs": [],
   "source": [
    "# Plot\n",
    "def plot_history(history):\n",
    "    xs = [i*10 for i in range(len(history['bit_error']))]\n",
    "    fig, ax1 = plt.subplots()\n",
    "    color = 'tab:red'\n",
    "    # Bit error\n",
    "    ax1.set_xlabel('# Iterations')\n",
    "    ax1.set_ylabel('bit error', color=color)\n",
    "    ax1.plot(xs, history['bit_error'], color=color)\n",
    "    ax1.tick_params(axis='y', labelcolor=color)\n",
    "    \n",
    "    # Accuracy\n",
    "    ax2 = ax1.twinx()  # instantiate a second axes that shares the same x-axis\n",
    "    color = 'tab:blue'\n",
    "    ax2.set_ylabel('accuracy', color=color)  # we already handled the x-label with ax1\n",
    "    ax2.plot(xs, history['accuracy'], color=color)\n",
    "    ax2.tick_params(axis='y', labelcolor=color)\n",
    "    \n",
    "    fig.tight_layout()  # otherwise the right y-label is slightly clipped\n",
    "    plt.show()"
   ]
  },
  {
   "cell_type": "markdown",
   "metadata": {},
   "source": [
    "# Data Generation"
   ]
  },
  {
   "cell_type": "code",
   "execution_count": 5,
   "metadata": {
    "code_folding": [
     0
    ]
   },
   "outputs": [],
   "source": [
    "class BinaryAdditionDataGenerator():\n",
    "    def generate_data(self, n_bits=8):\n",
    "        x1 = np.random.randint(2, size=n_bits)\n",
    "        x2 = np.random.randint(2, size=n_bits)\n",
    "        y  = [0 for i in range(n_bits)]\n",
    "        carry = 0\n",
    "        for i, (a, b) in enumerate(zip(x1, x2)):\n",
    "            y[i] = a + b + carry\n",
    "            carry = 0\n",
    "            if y[i] >= 2:\n",
    "                y[i] %= 2\n",
    "                carry = 1\n",
    "        x = np.array([x1, x2]).T\n",
    "        y = np.array(y)\n",
    "        return x, y"
   ]
  },
  {
   "cell_type": "code",
   "execution_count": 6,
   "metadata": {
    "code_folding": [
     0
    ]
   },
   "outputs": [],
   "source": [
    "# Data Conversion\n",
    "def to_label(out):\n",
    "    label = []\n",
    "    for o in out[1:]:\n",
    "        if o.item() > 0.5:\n",
    "            label.append(1)\n",
    "        else:\n",
    "            label.append(0)\n",
    "    return np.array(label)\n",
    "\n",
    "def to_input(x1, x2):\n",
    "    input = np.array([to_binary_list(x1)[::-1], \n",
    "                      to_binary_list(x2)[::-1]]).T\n",
    "    return input\n",
    "\n",
    "def to_binary_list(number, n_bits=8):\n",
    "    bin_str = bin(number)\n",
    "    bin_str = \"0\"*n_bits + bin_str[2:]\n",
    "    bin_list = [int(b) for b in bin_str[-n_bits:]]\n",
    "    return bin_list\n",
    "\n",
    "def to_number(bin_array):\n",
    "    bin_array = np.array(bin_array).astype(str)\n",
    "    if len(bin_array.shape) == 1:\n",
    "        bin_str = ''.join(bin_array)\n",
    "        return int(bin_str, 2)\n",
    "    else:\n",
    "        result = []\n",
    "        for bin_subarray in bin_array.T:\n",
    "            bin_str = ''.join(bin_subarray)\n",
    "            result.append(int(bin_str[::-1], 2))\n",
    "        return result"
   ]
  },
  {
   "cell_type": "markdown",
   "metadata": {},
   "source": [
    "# Network"
   ]
  },
  {
   "cell_type": "code",
   "execution_count": 7,
   "metadata": {
    "code_folding": [
     0,
     15,
     24,
     33,
     53,
     84,
     91
    ]
   },
   "outputs": [],
   "source": [
    "class RNN():\n",
    "    def __init__(self, in_dims=2, hidden_dims=16, out_dims=1):\n",
    "        # Model dimensions\n",
    "        self.in_dims = in_dims\n",
    "        self.hidden_dims = hidden_dims\n",
    "        self.out_dims = out_dims\n",
    "        \n",
    "        # Model Weights\n",
    "        self.U = np.random.normal(size=(hidden_dims, in_dims)) * np.sqrt(2/(in_dims+hidden_dims))\n",
    "        self.V = np.random.normal(size=(out_dims, hidden_dims)) * np.sqrt(2/(hidden_dims+out_dims))\n",
    "        self.W = np.random.normal(size=(hidden_dims, hidden_dims)) * np.sqrt(2/(hidden_dims+hidden_dims))\n",
    "        self.b = np.zeros((hidden_dims, 1))\n",
    "        self.c = np.zeros((out_dims, 1))\n",
    "        self.zero_grad()\n",
    "        \n",
    "    def zero_grad(self):\n",
    "        # Set Gradients to zeros\n",
    "        self.gradient_c = np.zeros((self.c.shape))\n",
    "        self.gradient_b = np.zeros((self.b.shape))\n",
    "        self.gradient_V = np.zeros((self.V.shape))\n",
    "        self.gradient_U = np.zeros((self.U.shape))\n",
    "        self.gradient_W = np.zeros((self.W.shape))\n",
    "        self.batch_size = 0\n",
    "        \n",
    "    def update_weight(self, lr=0.1):\n",
    "        # Update Model parameters \n",
    "        self.c -= lr * (1/self.batch_size) * self.gradient_c\n",
    "        self.b -= lr * (1/self.batch_size) * self.gradient_b\n",
    "        self.V -= lr * (1/self.batch_size) * self.gradient_V\n",
    "        self.U -= lr * (1/self.batch_size) * self.gradient_U\n",
    "        self.W -= lr * (1/self.batch_size) * self.gradient_W\n",
    "        self.zero_grad()\n",
    "    \n",
    "    def forward(self, xs):\n",
    "        T = len(xs)\n",
    "        # Record from t=0 to t=T (t=0 is initial state)\n",
    "        self.x = [None for t in range(0, T+1)]\n",
    "        self.a = [None for t in range(0, T+1)]\n",
    "        self.h = [None for t in range(0, T+1)] \n",
    "        self.o = [None for t in range(0, T+1)]\n",
    "        self.y = [None for t in range(0, T+1)]\n",
    "        \n",
    "        # Foward Pass\n",
    "        self.h[0] = np.zeros((self.hidden_dims, 1))\n",
    "        for i, x in enumerate(xs):\n",
    "            t = i+1\n",
    "            self.x[t] = x.reshape(-1, 1)\n",
    "            self.a[t] = self.b + np.matmul(self.W, self.h[t-1]) + np.matmul(self.U, self.x[t])\n",
    "            self.h[t] = tanh(self.a[t])\n",
    "            self.o[t] = self.c + np.matmul(self.V, self.h[t])\n",
    "            self.y[t] = sigmoid(self.o[t])\n",
    "        return self.y\n",
    "    \n",
    "    def backward(self, y_true, y_pred):\n",
    "        T = len(self.h) - 1 \n",
    "        \n",
    "        # Compute dL/do\n",
    "        d_o = [None for t in range(0, T+1)]\n",
    "        for t in range(1, T+1):\n",
    "            i = t - 1\n",
    "            d_o[t] = y_pred[t] - y_true[i]\n",
    "        \n",
    "        # Compute H^(t)\n",
    "        H = [None for t in range(0, T+1)]\n",
    "        for t in range(1, T+1):\n",
    "            H[t] = np.zeros((self.hidden_dims, self.hidden_dims))\n",
    "            for d in range(H[t].shape[0]):\n",
    "                H[t][d, d] = 1-(self.h[t][d]**2)\n",
    "                \n",
    "        # Compute dL/dh\n",
    "        d_h = [None for t in range(0, T+1)]\n",
    "        d_h[-1] = np.matmul(self.V.T, d_o[-1])\n",
    "        for t in range(T-1, 0, -1):\n",
    "            d_h[t] = np.matmul(self.W.T, np.matmul(H[t+1], d_h[t+1])) + np.matmul(self.V.T, d_o[t])\n",
    "        \n",
    "        # Compute gradient with respect to model parametes {c, b, V, U, W}\n",
    "        for t in range(1, T+1):\n",
    "            self.gradient_c += d_o[t]\n",
    "            self.gradient_b += np.matmul(H[t], d_h[t])\n",
    "            self.gradient_V += np.matmul(d_o[t], self.h[t].T)\n",
    "            self.gradient_U += np.matmul(np.matmul(H[t], d_h[t]), self.x[t].T)\n",
    "            self.gradient_W += np.matmul(np.matmul(H[t], d_h[t]), self.h[t-1].T)    \n",
    "        self.batch_size += 1\n",
    "        \n",
    "    def predict(self, xs):\n",
    "        out = self.forward(xs)\n",
    "        out = np.array([o.item() for o in out[1:]])\n",
    "        out[out>=0.5] = 1\n",
    "        out[out<0.5] = 0\n",
    "        return out.astype(np.int32)\n",
    "    \n",
    "    def predict_number(self, x1, x2):\n",
    "        input = to_input(x1, x2)\n",
    "        output = self.predict(input)\n",
    "        prediction = to_number(output[::-1])\n",
    "        return prediction"
   ]
  },
  {
   "cell_type": "markdown",
   "metadata": {},
   "source": [
    "# Training "
   ]
  },
  {
   "cell_type": "code",
   "execution_count": 8,
   "metadata": {
    "code_folding": [
     0
    ]
   },
   "outputs": [],
   "source": [
    "def train(net, data_generator, batch_size=8, lr=0.05, n_iters=10000, print_every=1000, verbose=True):\n",
    "    error_total = 0\n",
    "    num_correct = 0\n",
    "    history = {'bit_error':[], 'accuracy':[]}\n",
    "    for iter_ in tqdm(range(1, n_iters+1)):\n",
    "        # Batch Training\n",
    "        for batch in range(batch_size):\n",
    "            input, label = data_generator.generate_data()\n",
    "            y_pred = net.forward(input)\n",
    "            net.backward(label, y_pred)\n",
    "            predict = net.predict(input)\n",
    "            error_total += compute_error(label, predict) # Bits error\n",
    "            num_correct += isCorrect(label, predict)     # output match y\n",
    "        net.update_weight(lr=lr)\n",
    "        # Print and record history\n",
    "        if iter_ % print_every == 0:\n",
    "            bit_error = (error_total / batch_size) / print_every\n",
    "            accuracy = (num_correct / batch_size) / print_every\n",
    "            if iter_%1000==0:\n",
    "                print(\"(Iter %05d) Bit error: %.3f, Accuracy: %.2f%%\"%(iter_, bit_error, accuracy*100))\n",
    "            history['bit_error'] += [bit_error]\n",
    "            history['accuracy'] += [accuracy]\n",
    "            error_total = 0\n",
    "            num_correct = 0\n",
    "    return history"
   ]
  },
  {
   "cell_type": "code",
   "execution_count": 65,
   "metadata": {
    "code_folding": []
   },
   "outputs": [],
   "source": [
    "# Create Model\n",
    "net = RNN(in_dims=2, hidden_dims=16, out_dims=1)\n",
    "\n",
    "# Create Data Generator\n",
    "data_generator = BinaryAdditionDataGenerator()\n",
    "\n",
    "# Training parameters\n",
    "batch_size = 1\n",
    "lr = 0.005\n",
    "n_iters = 10000\n",
    "print_every = 10"
   ]
  },
  {
   "cell_type": "code",
   "execution_count": 66,
   "metadata": {
    "code_folding": [
     1
    ]
   },
   "outputs": [
    {
     "data": {
      "application/vnd.jupyter.widget-view+json": {
       "model_id": "f233e9032e5d4342b0e29b88ec761f39",
       "version_major": 2,
       "version_minor": 0
      },
      "text/plain": [
       "HBox(children=(IntProgress(value=0, max=10000), HTML(value='')))"
      ]
     },
     "metadata": {},
     "output_type": "display_data"
    },
    {
     "name": "stdout",
     "output_type": "stream",
     "text": [
      "(Iter 01000) Bit error: 2.700, Accuracy: 10.00%\n",
      "(Iter 02000) Bit error: 2.400, Accuracy: 10.00%\n",
      "(Iter 03000) Bit error: 0.700, Accuracy: 60.00%\n",
      "(Iter 04000) Bit error: 0.000, Accuracy: 100.00%\n",
      "(Iter 05000) Bit error: 0.000, Accuracy: 100.00%\n",
      "(Iter 06000) Bit error: 0.000, Accuracy: 100.00%\n",
      "(Iter 07000) Bit error: 0.000, Accuracy: 100.00%\n",
      "(Iter 08000) Bit error: 0.000, Accuracy: 100.00%\n",
      "(Iter 09000) Bit error: 0.000, Accuracy: 100.00%\n",
      "(Iter 10000) Bit error: 0.000, Accuracy: 100.00%\n"
     ]
    },
    {
     "data": {
      "image/png": "[encoded data removed]",
      "text/plain": [
       "<Figure size 432x288 with 2 Axes>"
      ]
     },
     "metadata": {
      "needs_background": "light"
     },
     "output_type": "display_data"
    }
   ],
   "source": [
    "# Training\n",
    "history = train(net, data_generator, batch_size=batch_size, lr=lr, n_iters=n_iters, \n",
    "                print_every=print_every, verbose=False)\n",
    "\n",
    "plot_history(history)"
   ]
  },
  {
   "cell_type": "code",
   "execution_count": 61,
   "metadata": {},
   "outputs": [
    {
     "data": {
      "application/vnd.jupyter.widget-view+json": {
       "model_id": "c0ead29530d649c3a94aef565b932120",
       "version_major": 2,
       "version_minor": 0
      },
      "text/plain": [
       "HBox(children=(IntProgress(value=0, max=10000), HTML(value='')))"
      ]
     },
     "metadata": {},
     "output_type": "display_data"
    },
    {
     "name": "stdout",
     "output_type": "stream",
     "text": [
      "(Iter 01000) Bit error: 0.000, Accuracy: 100.00%\n",
      "(Iter 02000) Bit error: 0.000, Accuracy: 100.00%\n",
      "(Iter 03000) Bit error: 0.000, Accuracy: 100.00%\n",
      "(Iter 04000) Bit error: 0.000, Accuracy: 100.00%\n",
      "(Iter 05000) Bit error: 0.000, Accuracy: 100.00%\n",
      "(Iter 06000) Bit error: 0.000, Accuracy: 100.00%\n",
      "(Iter 07000) Bit error: 0.000, Accuracy: 100.00%\n",
      "(Iter 08000) Bit error: 0.000, Accuracy: 100.00%\n",
      "(Iter 09000) Bit error: 0.000, Accuracy: 100.00%\n",
      "(Iter 10000) Bit error: 0.000, Accuracy: 100.00%\n"
     ]
    },
    {
     "data": {
      "image/png": "[encoded data removed]",
      "text/plain": [
       "<Figure size 432x288 with 2 Axes>"
      ]
     },
     "metadata": {
      "needs_background": "light"
     },
     "output_type": "display_data"
    }
   ],
   "source": [
    "# Training\n",
    "history = train(net, data_generator, batch_size=1, lr=lr, n_iters=n_iters, \n",
    "                print_every=print_every, verbose=False)\n",
    "\n",
    "plot_history(history)"
   ]
  },
  {
   "cell_type": "code",
   "execution_count": 17,
   "metadata": {},
   "outputs": [
    {
     "name": "stdout",
     "output_type": "stream",
     "text": [
      "input : (41, 96)\n",
      "prediction : 137 \n"
     ]
    }
   ],
   "source": [
    "import random \n",
    "x1 = random.randint(0, 127)\n",
    "x2 = random.randint(0, 127)\n",
    "y_pred = net.predict_number(x1, x2)\n",
    "print(\"input : (%d, %d)\"%(x1, x2))\n",
    "print(\"prediction : %d \"%(y_pred))"
   ]
  },
  {
   "cell_type": "code",
   "execution_count": 46,
   "metadata": {},
   "outputs": [
    {
     "name": "stdout",
     "output_type": "stream",
     "text": [
      "\n",
      "Accuracy: 100.00%\n",
      "Predicted: [0 1 0 0 0 1 0 0]\n",
      "Label    : [0 1 0 0 0 1 0 0]\n",
      "True\n",
      "\n",
      "Predicted: [1 1 0 0 0 0 0 1]\n",
      "Label    : [1 1 0 0 0 0 0 1]\n",
      "True\n",
      "\n",
      "Predicted: [0 1 0 0 1 0 0 1]\n",
      "Label    : [0 1 0 0 1 0 0 1]\n",
      "True\n",
      "\n",
      "Predicted: [1 1 0 0 0 0 1 0]\n",
      "Label    : [1 1 0 0 0 0 1 0]\n",
      "True\n",
      "\n",
      "Predicted: [1 0 1 0 1 0 0 1]\n",
      "Label    : [1 0 1 0 1 0 0 1]\n",
      "True\n",
      "\n"
     ]
    }
   ],
   "source": [
    "# Test\n",
    "total = 1000\n",
    "correct = 0\n",
    "for i in range(total):\n",
    "    input, label = data_generator.generate_data()\n",
    "    y_pred = net.predict(input)\n",
    "    if np.array_equal(label, y_pred):\n",
    "        correct += 1\n",
    "print()\n",
    "print(\"Accuracy: %.2f%%\"%(correct/total*100))\n",
    "\n",
    "for i in range(5):\n",
    "    input, label = data_generator.generate_data()\n",
    "    y_pred = net.predict(input)\n",
    "    print(\"Predicted:\", y_pred)\n",
    "    print(\"Label    :\", label)\n",
    "    print(np.array_equal(label, y_pred))\n",
    "    print()"
   ]
  },
  {
   "cell_type": "code",
   "execution_count": null,
   "metadata": {},
   "outputs": [],
   "source": []
  }
 ],
 "metadata": {
  "kernelspec": {
   "display_name": "Python 3",
   "language": "python",
   "name": "python3"
  },
  "language_info": {
   "codemirror_mode": {
    "name": "ipython",
    "version": 3
   },
   "file_extension": ".py",
   "mimetype": "text/x-python",
   "name": "python",
   "nbconvert_exporter": "python",
   "pygments_lexer": "ipython3",
   "version": "3.6.7"
  },
  "varInspector": {
   "cols": {
    "lenName": 16,
    "lenType": 16,
    "lenVar": 40
   },
   "kernels_config": {
    "python": {
     "delete_cmd_postfix": "",
     "delete_cmd_prefix": "del ",
     "library": "var_list.py",
     "varRefreshCmd": "print(var_dic_list())"
    },
    "r": {
     "delete_cmd_postfix": ") ",
     "delete_cmd_prefix": "rm(",
     "library": "var_list.r",
     "varRefreshCmd": "cat(var_dic_list()) "
    }
   },
   "types_to_exclude": [
    "module",
    "function",
    "builtin_function_or_method",
    "instance",
    "_Feature"
   ],
   "window_display": false
  }
 },
 "nbformat": 4,
 "nbformat_minor": 2
}
